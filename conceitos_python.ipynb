{
  "nbformat": 4,
  "nbformat_minor": 0,
  "metadata": {
    "colab": {
      "provenance": [],
      "include_colab_link": true
    },
    "kernelspec": {
      "name": "python3",
      "display_name": "Python 3"
    }
  },
  "cells": [
    {
      "cell_type": "markdown",
      "metadata": {
        "id": "view-in-github",
        "colab_type": "text"
      },
      "source": [
        "<a href=\"https://colab.research.google.com/github/taisriquinho/Curso-Machine-Learning-com-Python/blob/main/conceitos_python.ipynb\" target=\"_parent\"><img src=\"https://colab.research.google.com/assets/colab-badge.svg\" alt=\"Open In Colab\"/></a>"
      ]
    },
    {
      "cell_type": "markdown",
      "metadata": {
        "id": "n9tALs4xVhkB"
      },
      "source": [
        "# **Introdução**"
      ]
    },
    {
      "cell_type": "markdown",
      "metadata": {
        "id": "Qksfq4rWV923"
      },
      "source": [
        "O objetivo desse projeto é de apresentar os comandos básicos de Python para aplicar em análise de dados."
      ]
    },
    {
      "cell_type": "code",
      "metadata": {
        "id": "BogCAZHYV85o",
        "outputId": "6c577fa5-282d-4014-9323-afb2d69bcffc",
        "colab": {
          "base_uri": "https://localhost:8080/"
        }
      },
      "source": [
        "print (\"Olá Mundo\")"
      ],
      "execution_count": 1,
      "outputs": [
        {
          "output_type": "stream",
          "name": "stdout",
          "text": [
            "Olá Mundo\n"
          ]
        }
      ]
    },
    {
      "cell_type": "code",
      "metadata": {
        "id": "Jibm2nlUVSzS"
      },
      "source": [
        "mensagem = 'Olá Mundo'"
      ],
      "execution_count": 2,
      "outputs": []
    },
    {
      "cell_type": "code",
      "metadata": {
        "id": "vQVlCNGWzmuI",
        "outputId": "8f826c69-5819-46f9-d209-c20c90247888",
        "colab": {
          "base_uri": "https://localhost:8080/"
        }
      },
      "source": [
        "print (mensagem)"
      ],
      "execution_count": 3,
      "outputs": [
        {
          "output_type": "stream",
          "name": "stdout",
          "text": [
            "Olá Mundo\n"
          ]
        }
      ]
    },
    {
      "cell_type": "code",
      "metadata": {
        "id": "tAT8jp7Hzrkm",
        "outputId": "8da1f1cf-9c4a-4b87-d728-6f907d06dadb",
        "colab": {
          "base_uri": "https://localhost:8080/",
          "height": 36
        }
      },
      "source": [
        "mensagem"
      ],
      "execution_count": 4,
      "outputs": [
        {
          "output_type": "execute_result",
          "data": {
            "text/plain": [
              "'Olá Mundo'"
            ],
            "application/vnd.google.colaboratory.intrinsic+json": {
              "type": "string"
            }
          },
          "metadata": {},
          "execution_count": 4
        }
      ]
    },
    {
      "cell_type": "code",
      "metadata": {
        "id": "EI1oXGPrz7c1",
        "outputId": "f461650f-0443-46b1-e348-a1ef57149e93",
        "colab": {
          "base_uri": "https://localhost:8080/"
        }
      },
      "source": [
        "nome = input ('Qual é o seu nome?')"
      ],
      "execution_count": 5,
      "outputs": [
        {
          "name": "stdout",
          "output_type": "stream",
          "text": [
            "Qual é o seu nome?Taís\n"
          ]
        }
      ]
    },
    {
      "cell_type": "code",
      "metadata": {
        "id": "20O5jaIm0Cxd",
        "outputId": "898336a6-6ee5-4ae4-88ef-174140226f3d",
        "colab": {
          "base_uri": "https://localhost:8080/"
        }
      },
      "source": [
        "print ('Meu nome é:',  nome)"
      ],
      "execution_count": 6,
      "outputs": [
        {
          "output_type": "stream",
          "name": "stdout",
          "text": [
            "Meu nome é: Taís\n"
          ]
        }
      ]
    },
    {
      "cell_type": "code",
      "metadata": {
        "id": "QF76W7O60I18",
        "colab": {
          "base_uri": "https://localhost:8080/"
        },
        "outputId": "a74e234d-9d3f-43b6-b47b-09326c14bab7"
      },
      "source": [
        "nome = input ('Qual é o seu nome?')\n",
        "print ('Meu nome é:',  nome)\n"
      ],
      "execution_count": 7,
      "outputs": [
        {
          "output_type": "stream",
          "name": "stdout",
          "text": [
            "Qual é o seu nome?Taís\n",
            "Meu nome é: Taís\n"
          ]
        }
      ]
    },
    {
      "cell_type": "markdown",
      "metadata": {
        "id": "WMGU7gLp2_WF"
      },
      "source": [
        "# **Operadores Matemáticos**"
      ]
    },
    {
      "cell_type": "code",
      "metadata": {
        "id": "M7zzp5GP0b_s"
      },
      "source": [
        "n1 = 7"
      ],
      "execution_count": 8,
      "outputs": []
    },
    {
      "cell_type": "code",
      "metadata": {
        "id": "EZ5RvZX20ebb"
      },
      "source": [
        "n2 = 2"
      ],
      "execution_count": 9,
      "outputs": []
    },
    {
      "cell_type": "code",
      "metadata": {
        "id": "6qrwoXGY0gqb",
        "colab": {
          "base_uri": "https://localhost:8080/"
        },
        "outputId": "fe89197d-661d-47ee-fc9b-54a0c8bbd76e"
      },
      "source": [
        "s = n1 + n2\n",
        "print(s)\n"
      ],
      "execution_count": 10,
      "outputs": [
        {
          "output_type": "stream",
          "name": "stdout",
          "text": [
            "9\n"
          ]
        }
      ]
    },
    {
      "cell_type": "code",
      "metadata": {
        "id": "khdn_IM50nmk",
        "colab": {
          "base_uri": "https://localhost:8080/"
        },
        "outputId": "97c41e34-6325-4a5f-8871-4c403e8148ed"
      },
      "source": [
        "s = s + n2\n",
        "print (s)"
      ],
      "execution_count": 11,
      "outputs": [
        {
          "output_type": "stream",
          "name": "stdout",
          "text": [
            "11\n"
          ]
        }
      ]
    },
    {
      "cell_type": "code",
      "metadata": {
        "id": "hCTXtBmy1Cn7",
        "colab": {
          "base_uri": "https://localhost:8080/"
        },
        "outputId": "e95189b7-edd7-407c-fb02-23d0f5d1d671"
      },
      "source": [
        "s += n2\n",
        "print(s)"
      ],
      "execution_count": 12,
      "outputs": [
        {
          "output_type": "stream",
          "name": "stdout",
          "text": [
            "13\n"
          ]
        }
      ]
    },
    {
      "cell_type": "code",
      "metadata": {
        "id": "UQc8-Hgb19Lj",
        "colab": {
          "base_uri": "https://localhost:8080/"
        },
        "outputId": "b726f843-74c3-46c0-86d1-efdef1f46d6d"
      },
      "source": [
        "sub = n1 - n2\n",
        "sub"
      ],
      "execution_count": 13,
      "outputs": [
        {
          "output_type": "execute_result",
          "data": {
            "text/plain": [
              "5"
            ]
          },
          "metadata": {},
          "execution_count": 13
        }
      ]
    },
    {
      "cell_type": "code",
      "metadata": {
        "id": "qLrm9drE2BeX",
        "colab": {
          "base_uri": "https://localhost:8080/"
        },
        "outputId": "db11a23b-c06e-40f5-859f-7793155dbbac"
      },
      "source": [
        "mult = n1 * n2\n",
        "mult"
      ],
      "execution_count": 14,
      "outputs": [
        {
          "output_type": "execute_result",
          "data": {
            "text/plain": [
              "14"
            ]
          },
          "metadata": {},
          "execution_count": 14
        }
      ]
    },
    {
      "cell_type": "code",
      "metadata": {
        "id": "X7aZTJnZ2I7f",
        "colab": {
          "base_uri": "https://localhost:8080/"
        },
        "outputId": "5516e1b2-e528-4507-a445-159cb4f6fc96"
      },
      "source": [
        "div = n1 / n2\n",
        "div"
      ],
      "execution_count": 15,
      "outputs": [
        {
          "output_type": "execute_result",
          "data": {
            "text/plain": [
              "3.5"
            ]
          },
          "metadata": {},
          "execution_count": 15
        }
      ]
    },
    {
      "cell_type": "code",
      "metadata": {
        "id": "aW1YPskE2OCR",
        "colab": {
          "base_uri": "https://localhost:8080/"
        },
        "outputId": "c1990bab-cc8a-4ac3-ddc6-1cb774a73c33"
      },
      "source": [
        "pot = n1**n2\n",
        "pot"
      ],
      "execution_count": 16,
      "outputs": [
        {
          "output_type": "execute_result",
          "data": {
            "text/plain": [
              "49"
            ]
          },
          "metadata": {},
          "execution_count": 16
        }
      ]
    },
    {
      "cell_type": "code",
      "metadata": {
        "id": "JV1zTdU82aju",
        "colab": {
          "base_uri": "https://localhost:8080/"
        },
        "outputId": "a0511e69-e0b0-46fa-b96f-e65191a57c9a"
      },
      "source": [
        "pot2 = pow (n1,n2)\n",
        "pot2"
      ],
      "execution_count": 17,
      "outputs": [
        {
          "output_type": "execute_result",
          "data": {
            "text/plain": [
              "49"
            ]
          },
          "metadata": {},
          "execution_count": 17
        }
      ]
    },
    {
      "cell_type": "code",
      "metadata": {
        "id": "wTYY_sXw2Ri3",
        "colab": {
          "base_uri": "https://localhost:8080/"
        },
        "outputId": "17e46863-cdad-4065-e1a3-6f50a30a86ee"
      },
      "source": [
        "divi = n1 // n2\n",
        "divi"
      ],
      "execution_count": 18,
      "outputs": [
        {
          "output_type": "execute_result",
          "data": {
            "text/plain": [
              "3"
            ]
          },
          "metadata": {},
          "execution_count": 18
        }
      ]
    },
    {
      "cell_type": "code",
      "metadata": {
        "id": "q7DPBYvy2WPe",
        "colab": {
          "base_uri": "https://localhost:8080/"
        },
        "outputId": "415088f9-fdc1-4a60-d9c8-a8218cda5b41"
      },
      "source": [
        "rest = n1 % n2\n",
        "rest"
      ],
      "execution_count": 19,
      "outputs": [
        {
          "output_type": "execute_result",
          "data": {
            "text/plain": [
              "1"
            ]
          },
          "metadata": {},
          "execution_count": 19
        }
      ]
    },
    {
      "cell_type": "markdown",
      "metadata": {
        "id": "D9dOFbLX59pv"
      },
      "source": [
        "# **Importações de bibliotecas (pacotes) e módulos**"
      ]
    },
    {
      "cell_type": "code",
      "source": [
        "import numpy as np"
      ],
      "metadata": {
        "id": "GJuycUdlFqGq"
      },
      "execution_count": 20,
      "outputs": []
    },
    {
      "cell_type": "markdown",
      "source": [
        "https://numpy.org/devdocs/user/whatisnumpy.html"
      ],
      "metadata": {
        "id": "msEbiw6YGjju"
      }
    },
    {
      "cell_type": "code",
      "metadata": {
        "id": "5cO9u1vDuwFq"
      },
      "source": [
        "raiz_quadrada = math.sqrt (25)"
      ],
      "execution_count": 28,
      "outputs": []
    },
    {
      "cell_type": "code",
      "metadata": {
        "id": "GARWqy2l3RIs"
      },
      "source": [
        "import math\n"
      ],
      "execution_count": 23,
      "outputs": []
    },
    {
      "cell_type": "markdown",
      "source": [
        "https://docs.python.org/pt-br/3/library/math.html"
      ],
      "metadata": {
        "id": "o22Iq_63Gm5v"
      }
    },
    {
      "cell_type": "code",
      "metadata": {
        "id": "-zEt18Gi3zDH"
      },
      "source": [
        "n = 18"
      ],
      "execution_count": 29,
      "outputs": []
    },
    {
      "cell_type": "code",
      "metadata": {
        "id": "hJVBJ7LE3wZL",
        "colab": {
          "base_uri": "https://localhost:8080/"
        },
        "outputId": "5e6a0108-1f41-4b53-9110-4b68b8b6bf4e"
      },
      "source": [
        "raiz = math.sqrt(n)\n",
        "print ('A raiz de {} é igual a {:.2f}'.format (n, raiz))"
      ],
      "execution_count": 30,
      "outputs": [
        {
          "output_type": "stream",
          "name": "stdout",
          "text": [
            "A raiz de 18 é igual a 4.24\n"
          ]
        }
      ]
    },
    {
      "cell_type": "code",
      "metadata": {
        "id": "dWDNjAQIECyI",
        "colab": {
          "base_uri": "https://localhost:8080/"
        },
        "outputId": "f0a30ca0-73a6-4c30-d226-be01fa01ce97"
      },
      "source": [
        "print(raiz)"
      ],
      "execution_count": 31,
      "outputs": [
        {
          "output_type": "stream",
          "name": "stdout",
          "text": [
            "4.242640687119285\n"
          ]
        }
      ]
    },
    {
      "cell_type": "code",
      "source": [
        "math.sqrt(18)"
      ],
      "metadata": {
        "colab": {
          "base_uri": "https://localhost:8080/"
        },
        "id": "np3FjMOPKTiP",
        "outputId": "82e271b3-329f-44b3-a008-d654a6e2041c"
      },
      "execution_count": 32,
      "outputs": [
        {
          "output_type": "execute_result",
          "data": {
            "text/plain": [
              "4.242640687119285"
            ]
          },
          "metadata": {},
          "execution_count": 32
        }
      ]
    },
    {
      "cell_type": "code",
      "source": [
        "print(f'A raiz quadrada de {n} é {raiz:.2f}')"
      ],
      "metadata": {
        "colab": {
          "base_uri": "https://localhost:8080/"
        },
        "id": "xVI_fWy0GzP3",
        "outputId": "4ca35446-f3bf-49e8-a8b2-79bbda7b7e0f"
      },
      "execution_count": 33,
      "outputs": [
        {
          "output_type": "stream",
          "name": "stdout",
          "text": [
            "A raiz quadrada de 18 é 4.24\n"
          ]
        }
      ]
    },
    {
      "cell_type": "code",
      "metadata": {
        "id": "hFwB1fmz4RbL",
        "colab": {
          "base_uri": "https://localhost:8080/"
        },
        "outputId": "ecdb841c-f30e-446f-9dd0-9a2167eb4abd"
      },
      "source": [
        "raiz2 = n ** 0.5\n",
        "print (raiz2)"
      ],
      "execution_count": 34,
      "outputs": [
        {
          "output_type": "stream",
          "name": "stdout",
          "text": [
            "4.242640687119285\n"
          ]
        }
      ]
    },
    {
      "cell_type": "code",
      "source": [
        "print (f'{raiz2:.3f}')"
      ],
      "metadata": {
        "colab": {
          "base_uri": "https://localhost:8080/"
        },
        "id": "kcAW_taYHSvN",
        "outputId": "3502ed19-41ed-407b-c062-d74169ab9d4b"
      },
      "execution_count": 35,
      "outputs": [
        {
          "output_type": "stream",
          "name": "stdout",
          "text": [
            "4.243\n"
          ]
        }
      ]
    },
    {
      "cell_type": "code",
      "metadata": {
        "id": "5Y4ovCja5H3Y",
        "colab": {
          "base_uri": "https://localhost:8080/"
        },
        "outputId": "18fc8f8d-16e8-46d6-f272-2bb4a634c2fe"
      },
      "source": [
        "print ('{:.3f}'.format(raiz2))"
      ],
      "execution_count": 36,
      "outputs": [
        {
          "output_type": "stream",
          "name": "stdout",
          "text": [
            "4.243\n"
          ]
        }
      ]
    },
    {
      "cell_type": "code",
      "source": [
        "sqrt(36)"
      ],
      "metadata": {
        "colab": {
          "base_uri": "https://localhost:8080/",
          "height": 141
        },
        "id": "Tby88ITGLZM6",
        "outputId": "c526e7e7-2a6a-4903-9402-f467bd1eb362"
      },
      "execution_count": 37,
      "outputs": [
        {
          "output_type": "error",
          "ename": "NameError",
          "evalue": "name 'sqrt' is not defined",
          "traceback": [
            "\u001b[0;31m---------------------------------------------------------------------------\u001b[0m",
            "\u001b[0;31mNameError\u001b[0m                                 Traceback (most recent call last)",
            "\u001b[0;32m/tmp/ipython-input-40072514.py\u001b[0m in \u001b[0;36m<cell line: 0>\u001b[0;34m()\u001b[0m\n\u001b[0;32m----> 1\u001b[0;31m \u001b[0msqrt\u001b[0m\u001b[0;34m(\u001b[0m\u001b[0;36m36\u001b[0m\u001b[0;34m)\u001b[0m\u001b[0;34m\u001b[0m\u001b[0;34m\u001b[0m\u001b[0m\n\u001b[0m",
            "\u001b[0;31mNameError\u001b[0m: name 'sqrt' is not defined"
          ]
        }
      ]
    },
    {
      "cell_type": "code",
      "metadata": {
        "id": "WsMSOqQr5v-9",
        "colab": {
          "base_uri": "https://localhost:8080/"
        },
        "outputId": "9e0d4808-0b71-46a1-9fd5-95dc62775f4f"
      },
      "source": [
        "from math import sqrt\n",
        "raiz3 = sqrt(n)\n",
        "print (f'{raiz3:.2f}')"
      ],
      "execution_count": 38,
      "outputs": [
        {
          "output_type": "stream",
          "name": "stdout",
          "text": [
            "4.24\n"
          ]
        }
      ]
    },
    {
      "cell_type": "code",
      "source": [
        "sqrt(36)"
      ],
      "metadata": {
        "colab": {
          "base_uri": "https://localhost:8080/"
        },
        "id": "hl_EXlBUL01k",
        "outputId": "6dae2b0e-4a17-4865-c16b-0d4fe1c3131d"
      },
      "execution_count": 39,
      "outputs": [
        {
          "output_type": "execute_result",
          "data": {
            "text/plain": [
              "6.0"
            ]
          },
          "metadata": {},
          "execution_count": 39
        }
      ]
    },
    {
      "cell_type": "code",
      "metadata": {
        "id": "vL_3azbqvI86"
      },
      "source": [
        "from math import sqrt, factorial"
      ],
      "execution_count": 40,
      "outputs": []
    },
    {
      "cell_type": "code",
      "metadata": {
        "id": "8TK6aLcovYf_",
        "colab": {
          "base_uri": "https://localhost:8080/"
        },
        "outputId": "ab405352-f390-48af-c42f-8e6e90ca1a72"
      },
      "source": [
        "fat = factorial(4)       # fatorial: 4! = 4.3.2 = 24\n",
        "                         #           5! = 5.4.3.2 = 120\n",
        "fat"
      ],
      "execution_count": 41,
      "outputs": [
        {
          "output_type": "execute_result",
          "data": {
            "text/plain": [
              "24"
            ]
          },
          "metadata": {},
          "execution_count": 41
        }
      ]
    },
    {
      "cell_type": "code",
      "source": [
        "factorial(8)"
      ],
      "metadata": {
        "colab": {
          "base_uri": "https://localhost:8080/"
        },
        "id": "T8Dexa_GMObU",
        "outputId": "d48f09a1-0ceb-476e-dee2-face1f8c991a"
      },
      "execution_count": 42,
      "outputs": [
        {
          "output_type": "execute_result",
          "data": {
            "text/plain": [
              "40320"
            ]
          },
          "metadata": {},
          "execution_count": 42
        }
      ]
    },
    {
      "cell_type": "code",
      "source": [
        "fatorial_raiz = factorial(int(sqrt(16)))\n",
        "fatorial_raiz"
      ],
      "metadata": {
        "colab": {
          "base_uri": "https://localhost:8080/"
        },
        "id": "H_vtnZSMn8gD",
        "outputId": "d66c5c21-a1c7-4923-f0cf-d1ba7c80073a"
      },
      "execution_count": 43,
      "outputs": [
        {
          "output_type": "execute_result",
          "data": {
            "text/plain": [
              "24"
            ]
          },
          "metadata": {},
          "execution_count": 43
        }
      ]
    },
    {
      "cell_type": "code",
      "metadata": {
        "id": "sVU44zJhwtF1",
        "colab": {
          "base_uri": "https://localhost:8080/"
        },
        "outputId": "30b08545-87a7-4441-ce0e-50008fe525c8"
      },
      "source": [
        "fatorial_raiz = math.factorial(int(math.sqrt(16)))\n",
        "fatorial_raiz"
      ],
      "execution_count": 44,
      "outputs": [
        {
          "output_type": "execute_result",
          "data": {
            "text/plain": [
              "24"
            ]
          },
          "metadata": {},
          "execution_count": 44
        }
      ]
    },
    {
      "cell_type": "code",
      "metadata": {
        "id": "Pk8d40wE562N",
        "colab": {
          "base_uri": "https://localhost:8080/"
        },
        "outputId": "e8b850e8-cc99-4e1b-bf7c-d199fe81d3d7"
      },
      "source": [
        "import random\n",
        "num = random.randint (1,10)\n",
        "print (num)"
      ],
      "execution_count": 45,
      "outputs": [
        {
          "output_type": "stream",
          "name": "stdout",
          "text": [
            "1\n"
          ]
        }
      ]
    },
    {
      "cell_type": "code",
      "metadata": {
        "id": "foLfjcEZ88LK",
        "colab": {
          "base_uri": "https://localhost:8080/",
          "height": 106
        },
        "outputId": "5f6193f9-ca49-4985-c148-01cd7162c52f"
      },
      "source": [
        "random."
      ],
      "execution_count": 46,
      "outputs": [
        {
          "output_type": "error",
          "ename": "SyntaxError",
          "evalue": "invalid syntax (ipython-input-2942775573.py, line 1)",
          "traceback": [
            "\u001b[0;36m  File \u001b[0;32m\"/tmp/ipython-input-2942775573.py\"\u001b[0;36m, line \u001b[0;32m1\u001b[0m\n\u001b[0;31m    random.\u001b[0m\n\u001b[0m           ^\u001b[0m\n\u001b[0;31mSyntaxError\u001b[0m\u001b[0;31m:\u001b[0m invalid syntax\n"
          ]
        }
      ]
    },
    {
      "cell_type": "markdown",
      "source": [
        "https://docs.python.org/pt-br/3.7/library/random.html"
      ],
      "metadata": {
        "id": "n6qLsPMUHNoF"
      }
    },
    {
      "cell_type": "code",
      "metadata": {
        "id": "N6K3ZTUq9EcH"
      },
      "source": [
        "from random import random, randint"
      ],
      "execution_count": 47,
      "outputs": []
    },
    {
      "cell_type": "code",
      "metadata": {
        "id": "7gDnh7Sv-GOL"
      },
      "source": [
        "random?"
      ],
      "execution_count": 48,
      "outputs": []
    },
    {
      "cell_type": "code",
      "metadata": {
        "id": "n69KJ82G-qLk"
      },
      "source": [
        "randint?"
      ],
      "execution_count": 49,
      "outputs": []
    },
    {
      "cell_type": "code",
      "metadata": {
        "id": "Qn6p4XLt9MiI",
        "colab": {
          "base_uri": "https://localhost:8080/"
        },
        "outputId": "87790be2-d797-4102-84f1-ca2678cea887"
      },
      "source": [
        "num2 = random()\n",
        "num2"
      ],
      "execution_count": 52,
      "outputs": [
        {
          "output_type": "execute_result",
          "data": {
            "text/plain": [
              "0.6825521566682604"
            ]
          },
          "metadata": {},
          "execution_count": 52
        }
      ]
    },
    {
      "cell_type": "code",
      "source": [
        "randint(2,15)"
      ],
      "metadata": {
        "colab": {
          "base_uri": "https://localhost:8080/"
        },
        "id": "cVkndYd8OVbp",
        "outputId": "bbd74e29-ff93-4710-8693-4c7517e30d30"
      },
      "execution_count": 51,
      "outputs": [
        {
          "output_type": "execute_result",
          "data": {
            "text/plain": [
              "4"
            ]
          },
          "metadata": {},
          "execution_count": 51
        }
      ]
    },
    {
      "cell_type": "markdown",
      "metadata": {
        "id": "S0D7LUH87yT_"
      },
      "source": [
        "# **Estrutura condicional**"
      ]
    },
    {
      "cell_type": "code",
      "source": [
        "import numpy as np"
      ],
      "metadata": {
        "id": "o0-xAwbrD3sH"
      },
      "execution_count": 53,
      "outputs": []
    },
    {
      "cell_type": "markdown",
      "metadata": {
        "id": "1z1BpFdSoEP3"
      },
      "source": [
        "if\n",
        "else\n",
        "elif"
      ]
    },
    {
      "cell_type": "code",
      "metadata": {
        "id": "PscLlibJ8A-P"
      },
      "source": [
        "nota = 5"
      ],
      "execution_count": 54,
      "outputs": []
    },
    {
      "cell_type": "code",
      "metadata": {
        "id": "m9O23T6U7VaB",
        "colab": {
          "base_uri": "https://localhost:8080/"
        },
        "outputId": "2e55d8b3-6ca1-46cc-c769-7dbda8503ac8"
      },
      "source": [
        "if nota >= 6:\n",
        "    print('Aprovado')\n",
        "else:\n",
        "    print('Reprovado')"
      ],
      "execution_count": 55,
      "outputs": [
        {
          "output_type": "stream",
          "name": "stdout",
          "text": [
            "Reprovado\n"
          ]
        }
      ]
    },
    {
      "cell_type": "code",
      "metadata": {
        "id": "8phBT3oh8b25",
        "colab": {
          "base_uri": "https://localhost:8080/"
        },
        "outputId": "2498833b-7171-404e-a82c-1e4d4944465c"
      },
      "source": [
        "if nota >= 6:\n",
        "    print('Aprovado')\n",
        "elif nota >= 5 and nota< 6:\n",
        "    print('Recuperação')\n",
        "else:\n",
        "    print('Reprovado')"
      ],
      "execution_count": 56,
      "outputs": [
        {
          "output_type": "stream",
          "name": "stdout",
          "text": [
            "Recuperação\n"
          ]
        }
      ]
    },
    {
      "cell_type": "markdown",
      "metadata": {
        "id": "zYMDxIsTog20"
      },
      "source": [
        "# **Estrutura de Repetição**"
      ]
    },
    {
      "cell_type": "markdown",
      "metadata": {
        "id": "6UzQZL5JoqSM"
      },
      "source": [
        "for\n",
        "while\n"
      ]
    },
    {
      "cell_type": "code",
      "metadata": {
        "id": "H-m31UA8ovSt",
        "colab": {
          "base_uri": "https://localhost:8080/"
        },
        "outputId": "27a94e4e-8491-4316-cbb0-b593d6b84967"
      },
      "source": [
        "for c in range(0,4):\n",
        "    print(c)"
      ],
      "execution_count": 57,
      "outputs": [
        {
          "output_type": "stream",
          "name": "stdout",
          "text": [
            "0\n",
            "1\n",
            "2\n",
            "3\n"
          ]
        }
      ]
    },
    {
      "cell_type": "code",
      "metadata": {
        "id": "qLzFKC2-txnH",
        "colab": {
          "base_uri": "https://localhost:8080/"
        },
        "outputId": "c34fb722-2fd8-425b-c745-5e41c3cb45cd"
      },
      "source": [
        "lista = [1, 2, 3, 4, 10]\n",
        "for numero in lista:\n",
        "  mult = numero * 2\n",
        "  print(mult)"
      ],
      "execution_count": 58,
      "outputs": [
        {
          "output_type": "stream",
          "name": "stdout",
          "text": [
            "2\n",
            "4\n",
            "6\n",
            "8\n",
            "20\n"
          ]
        }
      ]
    },
    {
      "cell_type": "code",
      "metadata": {
        "id": "JfN3HtEisED1",
        "colab": {
          "base_uri": "https://localhost:8080/"
        },
        "outputId": "28f1318c-7ecd-4e55-9fd8-3c1a4f10db40"
      },
      "source": [
        "soma = 0\n",
        "cont = 0\n",
        "for c in range (1, 6):\n",
        "    num = int(input('digite o {}o valor: '.format(c)))\n",
        "    if num % 2 == 0:\n",
        "        soma = soma + num\n",
        "        cont = cont + 1\n",
        "print('Você informou {} números pares e a soma deles é igual a {}'.format(cont, soma))"
      ],
      "execution_count": 59,
      "outputs": [
        {
          "output_type": "stream",
          "name": "stdout",
          "text": [
            "digite o 1o valor: 5\n",
            "digite o 2o valor: 7\n",
            "digite o 3o valor: 8\n",
            "digite o 4o valor: 1\n",
            "digite o 5o valor: 12\n",
            "Você informou 2 números pares e a soma deles é igual a 20\n"
          ]
        }
      ]
    },
    {
      "cell_type": "code",
      "metadata": {
        "id": "zEhnKG1aq_nM",
        "colab": {
          "base_uri": "https://localhost:8080/"
        },
        "outputId": "17656979-003c-4703-ae09-276ceee7d677"
      },
      "source": [
        "c = 1\n",
        "while c <= 10:\n",
        "    s = c + 10\n",
        "    print(s)\n",
        "    c = c + 1\n",
        "print('FIM')"
      ],
      "execution_count": 60,
      "outputs": [
        {
          "output_type": "stream",
          "name": "stdout",
          "text": [
            "11\n",
            "12\n",
            "13\n",
            "14\n",
            "15\n",
            "16\n",
            "17\n",
            "18\n",
            "19\n",
            "20\n",
            "FIM\n"
          ]
        }
      ]
    },
    {
      "cell_type": "markdown",
      "metadata": {
        "id": "zsJIT1D5u_fc"
      },
      "source": [
        "# **Listas, Tuplas e Dicionários**"
      ]
    },
    {
      "cell_type": "markdown",
      "metadata": {
        "id": "SdbTnj1KvM3b"
      },
      "source": [
        "Listas [ ]\n",
        "Tuplas ( )\n",
        "Dicionários { }"
      ]
    },
    {
      "cell_type": "markdown",
      "metadata": {
        "id": "wSQTmCVWx3_O"
      },
      "source": [
        "**LISTAS**"
      ]
    },
    {
      "cell_type": "code",
      "metadata": {
        "id": "HnYMCqQuvkr8"
      },
      "source": [
        "num = [2, 5, 7, 9]"
      ],
      "execution_count": 61,
      "outputs": []
    },
    {
      "cell_type": "code",
      "metadata": {
        "id": "SDBxexK3vq7B"
      },
      "source": [
        "num[3] = 4   # no lugar do elemento na posição 3 (número 9) vai ser colocado o número 4"
      ],
      "execution_count": 62,
      "outputs": []
    },
    {
      "cell_type": "code",
      "metadata": {
        "id": "kfkiZ9suwE3I",
        "colab": {
          "base_uri": "https://localhost:8080/"
        },
        "outputId": "37b0085b-1cde-409e-de65-d645741df6ff"
      },
      "source": [
        "num"
      ],
      "execution_count": 63,
      "outputs": [
        {
          "output_type": "execute_result",
          "data": {
            "text/plain": [
              "[2, 5, 7, 4]"
            ]
          },
          "metadata": {},
          "execution_count": 63
        }
      ]
    },
    {
      "cell_type": "code",
      "metadata": {
        "id": "JzL0DiSOwLdg",
        "colab": {
          "base_uri": "https://localhost:8080/"
        },
        "outputId": "a4ac4496-6ffe-4bbb-ddd9-ff4a66ae3e53"
      },
      "source": [
        "num.append(8) #inclui o número 8\n",
        "num"
      ],
      "execution_count": 64,
      "outputs": [
        {
          "output_type": "execute_result",
          "data": {
            "text/plain": [
              "[2, 5, 7, 4, 8]"
            ]
          },
          "metadata": {},
          "execution_count": 64
        }
      ]
    },
    {
      "cell_type": "code",
      "metadata": {
        "id": "1KbNaG8OwhjC",
        "colab": {
          "base_uri": "https://localhost:8080/"
        },
        "outputId": "a62e5711-a875-43b5-e5dc-a303dd234bad"
      },
      "source": [
        "num.sort() #coloca em ordem crescente\n",
        "num"
      ],
      "execution_count": 65,
      "outputs": [
        {
          "output_type": "execute_result",
          "data": {
            "text/plain": [
              "[2, 4, 5, 7, 8]"
            ]
          },
          "metadata": {},
          "execution_count": 65
        }
      ]
    },
    {
      "cell_type": "code",
      "metadata": {
        "id": "fo4dZTcFw2z1",
        "colab": {
          "base_uri": "https://localhost:8080/"
        },
        "outputId": "eb5c89b3-4bde-464e-e4e2-7b89c2bce184"
      },
      "source": [
        "num.insert(2, 0) # adiciona o zero na posição 2\n",
        "num"
      ],
      "execution_count": 66,
      "outputs": [
        {
          "output_type": "execute_result",
          "data": {
            "text/plain": [
              "[2, 4, 0, 5, 7, 8]"
            ]
          },
          "metadata": {},
          "execution_count": 66
        }
      ]
    },
    {
      "cell_type": "code",
      "metadata": {
        "id": "2wim84P4xEkd",
        "colab": {
          "base_uri": "https://localhost:8080/"
        },
        "outputId": "87365cc8-5221-4927-c10e-a84b0cd49855"
      },
      "source": [
        "num.remove(7) #remove o elemento 7\n",
        "num"
      ],
      "execution_count": 67,
      "outputs": [
        {
          "output_type": "execute_result",
          "data": {
            "text/plain": [
              "[2, 4, 0, 5, 8]"
            ]
          },
          "metadata": {},
          "execution_count": 67
        }
      ]
    },
    {
      "cell_type": "code",
      "metadata": {
        "id": "9HXeuBChxeb0",
        "colab": {
          "base_uri": "https://localhost:8080/"
        },
        "outputId": "81fe37ef-89ca-49fe-e35a-bcad4a2ebcc3"
      },
      "source": [
        "num.pop(3) #remove o elemento na posição 3\n",
        "num"
      ],
      "execution_count": 68,
      "outputs": [
        {
          "output_type": "execute_result",
          "data": {
            "text/plain": [
              "[2, 4, 0, 8]"
            ]
          },
          "metadata": {},
          "execution_count": 68
        }
      ]
    },
    {
      "cell_type": "code",
      "source": [
        "del(num[0:2]) #deleta números em um determinado intervalo"
      ],
      "metadata": {
        "id": "ExWXGnKxKX0e"
      },
      "execution_count": 69,
      "outputs": []
    },
    {
      "cell_type": "code",
      "source": [
        "num"
      ],
      "metadata": {
        "colab": {
          "base_uri": "https://localhost:8080/"
        },
        "id": "mUthv_ThKc1l",
        "outputId": "2eb69c86-4f36-4955-a236-f2bc4f182824"
      },
      "execution_count": 70,
      "outputs": [
        {
          "output_type": "execute_result",
          "data": {
            "text/plain": [
              "[0, 8]"
            ]
          },
          "metadata": {},
          "execution_count": 70
        }
      ]
    },
    {
      "cell_type": "markdown",
      "metadata": {
        "id": "UZ7wtvhjywTz"
      },
      "source": [
        "**TUPLAS**"
      ]
    },
    {
      "cell_type": "markdown",
      "metadata": {
        "id": "dEFU0DGDgEwz"
      },
      "source": [
        "Tupla é imutável."
      ]
    },
    {
      "cell_type": "code",
      "metadata": {
        "id": "gydwsEq-xyvM"
      },
      "source": [
        "num2 = (2, 5, 7, 9)"
      ],
      "execution_count": 71,
      "outputs": []
    },
    {
      "cell_type": "code",
      "metadata": {
        "id": "wZ0CZ4wtyBhz",
        "colab": {
          "base_uri": "https://localhost:8080/",
          "height": 141
        },
        "outputId": "11d7114a-dddd-465e-830e-37790a96b638"
      },
      "source": [
        "num2[3] = 4"
      ],
      "execution_count": 72,
      "outputs": [
        {
          "output_type": "error",
          "ename": "TypeError",
          "evalue": "'tuple' object does not support item assignment",
          "traceback": [
            "\u001b[0;31m---------------------------------------------------------------------------\u001b[0m",
            "\u001b[0;31mTypeError\u001b[0m                                 Traceback (most recent call last)",
            "\u001b[0;32m/tmp/ipython-input-188815676.py\u001b[0m in \u001b[0;36m<cell line: 0>\u001b[0;34m()\u001b[0m\n\u001b[0;32m----> 1\u001b[0;31m \u001b[0mnum2\u001b[0m\u001b[0;34m[\u001b[0m\u001b[0;36m3\u001b[0m\u001b[0;34m]\u001b[0m \u001b[0;34m=\u001b[0m \u001b[0;36m4\u001b[0m\u001b[0;34m\u001b[0m\u001b[0;34m\u001b[0m\u001b[0m\n\u001b[0m",
            "\u001b[0;31mTypeError\u001b[0m: 'tuple' object does not support item assignment"
          ]
        }
      ]
    },
    {
      "cell_type": "code",
      "metadata": {
        "id": "q1Rlip6SycjK",
        "colab": {
          "base_uri": "https://localhost:8080/",
          "height": 158
        },
        "outputId": "6fb55e5c-12fd-4e3e-e2f3-3c6f093ad95e"
      },
      "source": [
        "num2.append(8) #inclui o número 8\n",
        "num2"
      ],
      "execution_count": 73,
      "outputs": [
        {
          "output_type": "error",
          "ename": "AttributeError",
          "evalue": "'tuple' object has no attribute 'append'",
          "traceback": [
            "\u001b[0;31m---------------------------------------------------------------------------\u001b[0m",
            "\u001b[0;31mAttributeError\u001b[0m                            Traceback (most recent call last)",
            "\u001b[0;32m/tmp/ipython-input-226905722.py\u001b[0m in \u001b[0;36m<cell line: 0>\u001b[0;34m()\u001b[0m\n\u001b[0;32m----> 1\u001b[0;31m \u001b[0mnum2\u001b[0m\u001b[0;34m.\u001b[0m\u001b[0mappend\u001b[0m\u001b[0;34m(\u001b[0m\u001b[0;36m8\u001b[0m\u001b[0;34m)\u001b[0m \u001b[0;31m#inclui o número 8\u001b[0m\u001b[0;34m\u001b[0m\u001b[0;34m\u001b[0m\u001b[0m\n\u001b[0m\u001b[1;32m      2\u001b[0m \u001b[0mnum2\u001b[0m\u001b[0;34m\u001b[0m\u001b[0;34m\u001b[0m\u001b[0m\n",
            "\u001b[0;31mAttributeError\u001b[0m: 'tuple' object has no attribute 'append'"
          ]
        }
      ]
    },
    {
      "cell_type": "markdown",
      "metadata": {
        "id": "Nayqp9rby0kZ"
      },
      "source": [
        "**DICIONÁRIOS**"
      ]
    },
    {
      "cell_type": "code",
      "metadata": {
        "id": "YaEdF0kly9FQ",
        "colab": {
          "base_uri": "https://localhost:8080/"
        },
        "outputId": "66d61f59-acfc-47f4-b2a6-4477d24fb676"
      },
      "source": [
        "pessoas = {'nome': 'Luciano', 'sexo': 'masculino', 'idade': 46}  # número não coloca aspas\n",
        "print (pessoas)"
      ],
      "execution_count": 74,
      "outputs": [
        {
          "output_type": "stream",
          "name": "stdout",
          "text": [
            "{'nome': 'Luciano', 'sexo': 'masculino', 'idade': 46}\n"
          ]
        }
      ]
    },
    {
      "cell_type": "code",
      "metadata": {
        "id": "iVQVWZkXz-OH",
        "colab": {
          "base_uri": "https://localhost:8080/"
        },
        "outputId": "08398a10-e1ae-48be-d343-158636958498"
      },
      "source": [
        "pessoas['time'] = 'Corinthians'\n",
        "print(pessoas)"
      ],
      "execution_count": 75,
      "outputs": [
        {
          "output_type": "stream",
          "name": "stdout",
          "text": [
            "{'nome': 'Luciano', 'sexo': 'masculino', 'idade': 46, 'time': 'Corinthians'}\n"
          ]
        }
      ]
    },
    {
      "cell_type": "code",
      "metadata": {
        "id": "Ma9cXRzi16BT",
        "colab": {
          "base_uri": "https://localhost:8080/"
        },
        "outputId": "46e7846f-032a-45c0-b1e5-f5d1094c3f26"
      },
      "source": [
        "del pessoas['idade']\n",
        "print(pessoas)"
      ],
      "execution_count": 76,
      "outputs": [
        {
          "output_type": "stream",
          "name": "stdout",
          "text": [
            "{'nome': 'Luciano', 'sexo': 'masculino', 'time': 'Corinthians'}\n"
          ]
        }
      ]
    },
    {
      "cell_type": "markdown",
      "metadata": {
        "id": "ZIFE-DwhkB_K"
      },
      "source": [
        "# **Funções**"
      ]
    },
    {
      "cell_type": "code",
      "metadata": {
        "id": "dRcIq_-nkKEh"
      },
      "source": [
        "def identificacao(nome,idade):\n",
        "   print('Olá',nome,'\\nVocê é jovem, tem apenas',idade, 'anos')"
      ],
      "execution_count": 77,
      "outputs": []
    },
    {
      "cell_type": "code",
      "metadata": {
        "id": "le4TCLqUk-5g",
        "colab": {
          "base_uri": "https://localhost:8080/"
        },
        "outputId": "859bb9df-9a82-4eae-b6bc-3828991dd4af"
      },
      "source": [
        "identificacao('Luciano', 46)"
      ],
      "execution_count": 78,
      "outputs": [
        {
          "output_type": "stream",
          "name": "stdout",
          "text": [
            "Olá Luciano \n",
            "Você é jovem, tem apenas 46 anos\n"
          ]
        }
      ]
    },
    {
      "cell_type": "code",
      "metadata": {
        "id": "qJWNKw8nlg82"
      },
      "source": [
        "def maior (x,y):\n",
        "  if x < y:\n",
        "    print ('O maior número é', y)\n",
        "  elif x == y:\n",
        "    print ('Os números são iguais')\n",
        "  else:\n",
        "    print ('O maior número é', x)"
      ],
      "execution_count": 79,
      "outputs": []
    },
    {
      "cell_type": "code",
      "metadata": {
        "id": "QBXbsMyJmQzm",
        "colab": {
          "base_uri": "https://localhost:8080/"
        },
        "outputId": "2605aa73-b723-47f4-bf10-9b60d3a91038"
      },
      "source": [
        "maior (11,16)"
      ],
      "execution_count": 80,
      "outputs": [
        {
          "output_type": "stream",
          "name": "stdout",
          "text": [
            "O maior número é 16\n"
          ]
        }
      ]
    },
    {
      "cell_type": "code",
      "metadata": {
        "id": "AH4rNn6dmrdl"
      },
      "source": [
        "def pitagoras (cat1, cat2, hip):\n",
        "  if hip == '?':\n",
        "    hip = (cat1**2+cat2**2)**(1/2)\n",
        "    print ('A hipotenusa é', hip)\n",
        "  elif cat1 == '?':\n",
        "    cat1 = (hip**2-cat2**2)**(1/2)\n",
        "    print ('O cateto é', cat1)\n",
        "  elif cat2 == '?':\n",
        "    cat2 = (hip**2-cat1**2)**(1/2)\n",
        "    print ('O cateto é', cat2)"
      ],
      "execution_count": 81,
      "outputs": []
    },
    {
      "cell_type": "code",
      "metadata": {
        "id": "AdqHm9aWnF-T",
        "colab": {
          "base_uri": "https://localhost:8080/"
        },
        "outputId": "d714eb0a-320d-402b-d665-db4af624be2e"
      },
      "source": [
        "pitagoras (13,5,'?')"
      ],
      "execution_count": 82,
      "outputs": [
        {
          "output_type": "stream",
          "name": "stdout",
          "text": [
            "A hipotenusa é 13.92838827718412\n"
          ]
        }
      ]
    },
    {
      "cell_type": "markdown",
      "metadata": {
        "id": "Wbpjrij0Q6Il"
      },
      "source": [
        "## **Função lambda e map**"
      ]
    },
    {
      "cell_type": "markdown",
      "metadata": {
        "id": "5CuPklGeX2RJ"
      },
      "source": [
        "Forma simplificada de escrever funções"
      ]
    },
    {
      "cell_type": "code",
      "metadata": {
        "id": "LqflbOryRCJt"
      },
      "source": [
        "def area_quadrado (L):\n",
        "  area = L**2\n",
        "  print(area)"
      ],
      "execution_count": 83,
      "outputs": []
    },
    {
      "cell_type": "code",
      "metadata": {
        "colab": {
          "base_uri": "https://localhost:8080/"
        },
        "id": "gTUKwLKPRWfs",
        "outputId": "c1076838-2aad-4a17-f82e-77f639220e5c"
      },
      "source": [
        "area_quadrado(4)"
      ],
      "execution_count": 84,
      "outputs": [
        {
          "output_type": "stream",
          "name": "stdout",
          "text": [
            "16\n"
          ]
        }
      ]
    },
    {
      "cell_type": "code",
      "metadata": {
        "id": "HgWm3A8FRe4r"
      },
      "source": [
        "area_quadrado2 = lambda x: x**2"
      ],
      "execution_count": 85,
      "outputs": []
    },
    {
      "cell_type": "code",
      "metadata": {
        "colab": {
          "base_uri": "https://localhost:8080/"
        },
        "id": "q7k3w49zWHBb",
        "outputId": "c43a6ed4-ebef-445c-f103-dcea4253c900"
      },
      "source": [
        "area_quadrado2(7)"
      ],
      "execution_count": 86,
      "outputs": [
        {
          "output_type": "execute_result",
          "data": {
            "text/plain": [
              "49"
            ]
          },
          "metadata": {},
          "execution_count": 86
        }
      ]
    },
    {
      "cell_type": "code",
      "metadata": {
        "id": "fYePyGQiWx9N"
      },
      "source": [
        "area_retangulo = lambda b, h: b*h"
      ],
      "execution_count": 89,
      "outputs": []
    },
    {
      "cell_type": "code",
      "metadata": {
        "colab": {
          "base_uri": "https://localhost:8080/"
        },
        "id": "zRPIrrLCXHK7",
        "outputId": "e8fc4773-aa18-48bb-e957-f2a5bad27a9d"
      },
      "source": [
        "area_retangulo(4,7)"
      ],
      "execution_count": 90,
      "outputs": [
        {
          "output_type": "execute_result",
          "data": {
            "text/plain": [
              "28"
            ]
          },
          "metadata": {},
          "execution_count": 90
        }
      ]
    },
    {
      "cell_type": "code",
      "metadata": {
        "colab": {
          "base_uri": "https://localhost:8080/"
        },
        "id": "T7Fy6q5YSiXS",
        "outputId": "0e4bf52f-2d84-4c9a-ebc3-cde875fa2ca8"
      },
      "source": [
        "# Uma vantagem é quando se utiliza juntamente com outros métodos\n",
        "L = [4,5,6,7,11,9,10]\n",
        "areas = list(map(lambda x: x**2, L))\n",
        "print(areas)"
      ],
      "execution_count": 91,
      "outputs": [
        {
          "output_type": "stream",
          "name": "stdout",
          "text": [
            "[16, 25, 36, 49, 121, 81, 100]\n"
          ]
        }
      ]
    },
    {
      "cell_type": "code",
      "source": [
        "area_retangulo = lambda b, h: b*h"
      ],
      "metadata": {
        "id": "f28TPZHmQih2"
      },
      "execution_count": 92,
      "outputs": []
    },
    {
      "cell_type": "markdown",
      "metadata": {
        "id": "0qqrF6eUXrE4"
      },
      "source": [
        "# **List Comprehensions**"
      ]
    },
    {
      "cell_type": "markdown",
      "metadata": {
        "id": "h8_IZl4BYSgG"
      },
      "source": [
        "Otimiza a utilização de listas e diminui linhas de código"
      ]
    },
    {
      "cell_type": "code",
      "metadata": {
        "id": "e_i-0-4aYR0m",
        "colab": {
          "base_uri": "https://localhost:8080/"
        },
        "outputId": "b56519f8-04b7-4e3c-fbbc-c88981d8e1f8"
      },
      "source": [
        "lista=[]\n",
        "for valor in range(5):\n",
        "  lista.append(valor+10)\n",
        "print(lista)\n"
      ],
      "execution_count": 93,
      "outputs": [
        {
          "output_type": "stream",
          "name": "stdout",
          "text": [
            "[10, 11, 12, 13, 14]\n"
          ]
        }
      ]
    },
    {
      "cell_type": "code",
      "metadata": {
        "id": "uThJIVObXpeR",
        "colab": {
          "base_uri": "https://localhost:8080/"
        },
        "outputId": "308b156c-bee8-41ea-af6c-19427b5d16dc"
      },
      "source": [
        "lista = [valor+10 for valor in range(5)]\n",
        "print(lista)\n"
      ],
      "execution_count": 94,
      "outputs": [
        {
          "output_type": "stream",
          "name": "stdout",
          "text": [
            "[10, 11, 12, 13, 14]\n"
          ]
        }
      ]
    },
    {
      "cell_type": "code",
      "metadata": {
        "id": "gmq6W-Fjarvf",
        "colab": {
          "base_uri": "https://localhost:8080/"
        },
        "outputId": "020c3b8f-59e8-47e7-f2ee-0537c4085834"
      },
      "source": [
        "lista = []\n",
        "for numero in range (1,30):\n",
        "  if numero % 4 == 0:\n",
        "    lista.append(numero)\n",
        "print(lista)\n"
      ],
      "execution_count": 95,
      "outputs": [
        {
          "output_type": "stream",
          "name": "stdout",
          "text": [
            "[4, 8, 12, 16, 20, 24, 28]\n"
          ]
        }
      ]
    },
    {
      "cell_type": "code",
      "metadata": {
        "id": "se6DeQZKZ6HJ",
        "colab": {
          "base_uri": "https://localhost:8080/"
        },
        "outputId": "90025327-b221-4da0-eb5b-7ef2f1e867d6"
      },
      "source": [
        "multiplos4 = [numero for numero in range(1,30) if numero % 4 == 0]\n",
        "print(multiplos4)\n"
      ],
      "execution_count": 96,
      "outputs": [
        {
          "output_type": "stream",
          "name": "stdout",
          "text": [
            "[4, 8, 12, 16, 20, 24, 28]\n"
          ]
        }
      ]
    },
    {
      "cell_type": "code",
      "metadata": {
        "id": "Fi5Hes3ebvVN",
        "colab": {
          "base_uri": "https://localhost:8080/"
        },
        "outputId": "0e3e364e-6beb-43e1-8df5-1bc015bdb01d"
      },
      "source": [
        "conceito = ['azul' if nota >= 6 else 'vermelha' for nota in range(1,11)]\n",
        "print(conceito)"
      ],
      "execution_count": 97,
      "outputs": [
        {
          "output_type": "stream",
          "name": "stdout",
          "text": [
            "['vermelha', 'vermelha', 'vermelha', 'vermelha', 'vermelha', 'azul', 'azul', 'azul', 'azul', 'azul']\n"
          ]
        }
      ]
    },
    {
      "cell_type": "markdown",
      "metadata": {
        "id": "uxCpeYoKDdd9"
      },
      "source": [
        "# **Vetores (arrays) e matrizes**"
      ]
    },
    {
      "cell_type": "markdown",
      "metadata": {
        "id": "RvI6SyjG5zjX"
      },
      "source": [
        "Matriz\n",
        "1    3    5    7\n",
        "2    4    6    8\n",
        "0    1    2    3\n",
        "\n",
        "Vetor\n",
        "5  10  15  20\n",
        "ou\n",
        "3\n",
        "4\n",
        "5\n",
        "6"
      ]
    },
    {
      "cell_type": "code",
      "metadata": {
        "id": "TAWr5vcXE3Ri"
      },
      "source": [
        "vetor = [2,4,5,6]"
      ],
      "execution_count": 98,
      "outputs": []
    },
    {
      "cell_type": "code",
      "metadata": {
        "id": "wTr4TDHhE7gq",
        "colab": {
          "base_uri": "https://localhost:8080/"
        },
        "outputId": "0f31c151-077a-4c7b-cb90-4ca3503d2bf6"
      },
      "source": [
        "type(vetor)"
      ],
      "execution_count": 99,
      "outputs": [
        {
          "output_type": "execute_result",
          "data": {
            "text/plain": [
              "list"
            ]
          },
          "metadata": {},
          "execution_count": 99
        }
      ]
    },
    {
      "cell_type": "code",
      "metadata": {
        "id": "nPPcWhIjG4YP"
      },
      "source": [
        "matriz = [[1,2,3],\n",
        "          [4,5,6],\n",
        "          [7,8,9]]"
      ],
      "execution_count": 100,
      "outputs": []
    },
    {
      "cell_type": "code",
      "metadata": {
        "id": "ff6UObFAHAcs",
        "colab": {
          "base_uri": "https://localhost:8080/"
        },
        "outputId": "c8d6ae91-d73f-4024-998f-193856ae919a"
      },
      "source": [
        "type(matriz)"
      ],
      "execution_count": 101,
      "outputs": [
        {
          "output_type": "execute_result",
          "data": {
            "text/plain": [
              "list"
            ]
          },
          "metadata": {},
          "execution_count": 101
        }
      ]
    },
    {
      "cell_type": "code",
      "metadata": {
        "id": "PlJvmdwnKbkN",
        "colab": {
          "base_uri": "https://localhost:8080/"
        },
        "outputId": "ab522fe3-d967-47e9-b506-cd04c8560760"
      },
      "source": [
        "print(matriz)"
      ],
      "execution_count": 102,
      "outputs": [
        {
          "output_type": "stream",
          "name": "stdout",
          "text": [
            "[[1, 2, 3], [4, 5, 6], [7, 8, 9]]\n"
          ]
        }
      ]
    },
    {
      "cell_type": "code",
      "metadata": {
        "id": "L3C192qbB4sR"
      },
      "source": [
        "import numpy as np"
      ],
      "execution_count": 103,
      "outputs": []
    },
    {
      "cell_type": "code",
      "metadata": {
        "id": "_xDT0MeaDuAW"
      },
      "source": [
        "vetor2 = np.array([1, -3, 4.2, 5])"
      ],
      "execution_count": 104,
      "outputs": []
    },
    {
      "cell_type": "code",
      "metadata": {
        "id": "ED19yxFZE0PE",
        "colab": {
          "base_uri": "https://localhost:8080/"
        },
        "outputId": "69865411-56c5-441d-fb02-f7bb6b076d27"
      },
      "source": [
        "type(vetor2)"
      ],
      "execution_count": 105,
      "outputs": [
        {
          "output_type": "execute_result",
          "data": {
            "text/plain": [
              "numpy.ndarray"
            ]
          },
          "metadata": {},
          "execution_count": 105
        }
      ]
    },
    {
      "cell_type": "code",
      "metadata": {
        "id": "ipy3TrhoJLKT",
        "colab": {
          "base_uri": "https://localhost:8080/"
        },
        "outputId": "36b4284c-00e8-4b3f-b366-e3eb57ca1ab9"
      },
      "source": [
        "print (vetor2)"
      ],
      "execution_count": 106,
      "outputs": [
        {
          "output_type": "stream",
          "name": "stdout",
          "text": [
            "[ 1.  -3.   4.2  5. ]\n"
          ]
        }
      ]
    },
    {
      "cell_type": "code",
      "metadata": {
        "id": "r9Lsxs2YCHP0",
        "colab": {
          "base_uri": "https://localhost:8080/"
        },
        "outputId": "6d7cd4d0-c5fc-4628-cdc0-f63356b23b34"
      },
      "source": [
        "matriz2 = np.ones((2,3))\n",
        "matriz2"
      ],
      "execution_count": 107,
      "outputs": [
        {
          "output_type": "execute_result",
          "data": {
            "text/plain": [
              "array([[1., 1., 1.],\n",
              "       [1., 1., 1.]])"
            ]
          },
          "metadata": {},
          "execution_count": 107
        }
      ]
    },
    {
      "cell_type": "code",
      "metadata": {
        "id": "CBTQ5_IHKK9G",
        "colab": {
          "base_uri": "https://localhost:8080/"
        },
        "outputId": "c12592e7-bb2e-42d7-9a05-7a4db67c2bb4"
      },
      "source": [
        "type(matriz2)"
      ],
      "execution_count": 108,
      "outputs": [
        {
          "output_type": "execute_result",
          "data": {
            "text/plain": [
              "numpy.ndarray"
            ]
          },
          "metadata": {},
          "execution_count": 108
        }
      ]
    },
    {
      "cell_type": "code",
      "metadata": {
        "id": "Bx_SfghTCYZC",
        "colab": {
          "base_uri": "https://localhost:8080/"
        },
        "outputId": "51426255-5b68-4638-9d3c-a8d2ad8570e2"
      },
      "source": [
        "matriz3 = np.diag((2,4,6,8,10))\n",
        "matriz3"
      ],
      "execution_count": 109,
      "outputs": [
        {
          "output_type": "execute_result",
          "data": {
            "text/plain": [
              "array([[ 2,  0,  0,  0,  0],\n",
              "       [ 0,  4,  0,  0,  0],\n",
              "       [ 0,  0,  6,  0,  0],\n",
              "       [ 0,  0,  0,  8,  0],\n",
              "       [ 0,  0,  0,  0, 10]])"
            ]
          },
          "metadata": {},
          "execution_count": 109
        }
      ]
    },
    {
      "cell_type": "code",
      "metadata": {
        "id": "ULocEupzEaNU",
        "colab": {
          "base_uri": "https://localhost:8080/"
        },
        "outputId": "6598fd28-9c0d-4993-9fec-c5e34c303c0a"
      },
      "source": [
        "type(matriz3)"
      ],
      "execution_count": 110,
      "outputs": [
        {
          "output_type": "execute_result",
          "data": {
            "text/plain": [
              "numpy.ndarray"
            ]
          },
          "metadata": {},
          "execution_count": 110
        }
      ]
    }
  ]
}